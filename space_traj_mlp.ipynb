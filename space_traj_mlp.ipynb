{
  "cells": [
    {
      "cell_type": "code",
      "execution_count": null,
      "metadata": {
        "id": "Uu1uynjUvh5S"
      },
      "outputs": [],
      "source": [
        "# import the libraries\n",
        "import tensorflow as tf\n",
        "from keras._tf_keras.keras import layers, ops, callbacks, Model\n",
        "import keras\n",
        "import pandas as pd\n",
        "import numpy as np\n",
        "from sklearn.model_selection import train_test_split\n",
        "from sklearn.preprocessing import StandardScaler\n",
        "import matplotlib.pyplot as plt\n"
      ]
    },
    {
      "cell_type": "code",
      "execution_count": null,
      "metadata": {
        "id": "xsNtSWVrvmoJ"
      },
      "outputs": [],
      "source": [
        "# define the file path\n",
        "file_path = \"datasets/fuel_optimal_db.csv\"\n",
        "\n",
        "# Load the data using pandas\n",
        "data = pd.read_csv(file_path)\n",
        "\n",
        "# drop unused columns\n",
        "columns_to_drop = [\"mima [kg]\", \"mima2 [kg]\", \"mima3 [kg]\", \"mfms_approx\"]\n",
        "data = data.drop(columns=columns_to_drop)\n",
        "\n",
        "# Preprocess data\n",
        "y = data[\"mt [kg]\"] / data[\"ms [kg]\"]\n",
        "X = data.drop(\"mt [kg]\", axis=1)\n",
        "\n",
        "# split data in train and test -- 20% of the dataset is used for testing\n",
        "X_train, X_test, y_train, y_test = train_test_split(\n",
        "    X, y, test_size=0.2, random_state=42\n",
        ")\n",
        "\n",
        "# scale the data\n",
        "scaler = StandardScaler()\n",
        "X_train_scaled = scaler.fit_transform(X_train)\n",
        "X_test_scaled = scaler.transform(X_test)\n"
      ]
    },
    {
      "cell_type": "code",
      "execution_count": null,
      "metadata": {
        "id": "lap9JHXEvu_Z"
      },
      "outputs": [],
      "source": [
        "# Multi Layer Perceptron\n",
        "model = keras.Sequential(\n",
        "    [\n",
        "        layers.InputLayer(input_shape=(X_train.shape[1],)),\n",
        "        layers.BatchNormalization(),\n",
        "        layers.Dense(64, activation=\"relu\"),\n",
        "        layers.Dropout(0.3),\n",
        "        layers.Dense(32, activation='relu'),\n",
        "        layers.Dropout(0.3),\n",
        "        layers.Dense(1, activation=\"sigmoid\"),\n",
        "    ]\n",
        ")\n",
        "\n",
        "model.compile(loss=\"mean_squared_error\", optimizer=\"adam\", metrics=[\"mean_absolute_error\"])"
      ]
    },
    {
      "cell_type": "code",
      "execution_count": null,
      "metadata": {
        "id": "lVIqSbzcvsQ3"
      },
      "outputs": [],
      "source": [
        "# fit the model\n",
        "history = model.fit(\n",
        "    X_train_scaled,\n",
        "    y_train,\n",
        "    epochs=100,\n",
        "    verbose=1,\n",
        "    batch_size=32,\n",
        ")"
      ]
    },
    {
      "cell_type": "code",
      "execution_count": null,
      "metadata": {
        "id": "E4CCo-y92tui"
      },
      "outputs": [],
      "source": [
        "# evaluate and check the history\n",
        "test_loss = model.evaluate(X_test_scaled, y_test)\n",
        "y_pred = model.predict(X_test_scaled)\n",
        "train_mae = history.history[\"mean_absolute_error\"]"
      ]
    },
    {
      "cell_type": "code",
      "execution_count": null,
      "metadata": {
        "id": "szzw91sq9kTK"
      },
      "outputs": [],
      "source": [
        "\n",
        "# Create the plot\n",
        "plt.figure(figsize=(10, 6))\n",
        "plt.plot(train_mae, label='Training MAE')\n",
        "plt.title('Mean Absolute Error Over Epochs')\n",
        "plt.xlabel('Epoch')\n",
        "plt.ylabel('Mean Absolute Error')\n",
        "plt.legend()\n",
        "plt.grid(True)\n",
        "\n",
        "# Show the plot\n",
        "plt.show()"
      ]
    }
  ],
  "metadata": {
    "accelerator": "GPU",
    "colab": {
      "gpuType": "T4",
      "provenance": []
    },
    "kernelspec": {
      "display_name": "Python 3",
      "name": "python3"
    },
    "language_info": {
      "name": "python",
      "version": "3.10.0"
    }
  },
  "nbformat": 4,
  "nbformat_minor": 0
}
