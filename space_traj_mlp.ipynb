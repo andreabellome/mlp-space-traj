{
  "cells": [
    {
      "cell_type": "markdown",
      "metadata": {},
      "source": [
        "## Multi-Layer Perceptron for Approximate Low-thrust Transfers"
      ]
    },
    {
      "cell_type": "markdown",
      "metadata": {},
      "source": [
        "This notebook is for training a Multi-layer Perceptron (MLP) for approximating cost of low-thrust trajectories in the Main Asteroid Belt (MAB). The work is based on the paper: [Acciarini, G., Beauregard, L., & Izzo, D. (2024), Computing low-thrust transfers in the asteroid belt, a comparison between astrodynamical manipulations and a machine learning approach.](https://www.researchgate.net/publication/380974504_Computing_low-thrust_transfers_in_the_asteroid_belt_a_comparison_between_astrodynamical_manipulations_and_a_machine_learning_approach/figures)\n",
        "\n",
        "And the dataset is downloaded from the [Zenodo link](https://data.niaid.nih.gov/resources?id=zenodo_10972837) provided by the authors. In particular, the ```fuel_optimal_db.txt``` is used and modified accordingly to be read as a ```.csv``` (e.g., adding commas and removing spaces from the columns' names)."
      ]
    },
    {
      "cell_type": "markdown",
      "metadata": {},
      "source": [
        "### Step 0: Import libraries\n",
        "\n",
        "In this step, libraries are imported. [Tensorflow](https://www.tensorflow.org) is used to build the MLP architecture."
      ]
    },
    {
      "cell_type": "code",
      "execution_count": 1,
      "metadata": {
        "id": "Uu1uynjUvh5S"
      },
      "outputs": [],
      "source": [
        "# import the libraries\n",
        "import tensorflow as tf\n",
        "from keras._tf_keras.keras import layers\n",
        "import keras\n",
        "\n",
        "import pandas as pd\n",
        "import numpy as np\n",
        "from sklearn.model_selection import train_test_split\n",
        "from sklearn.preprocessing import StandardScaler\n",
        "import matplotlib.pyplot as plt"
      ]
    },
    {
      "cell_type": "markdown",
      "metadata": {},
      "source": [
        "### Step 1: Data preparation\n",
        "\n",
        "The dataset is loaded and processed. In particular, the columns ```[\"mima [kg]\", \"mima2 [kg]\", \"mima3 [kg]\", \"mfms_approx\"]``` are dropped as these only represent other approximations to the described transfers, thus not adding much to the MLP predictions.\n",
        "\n",
        "The predicted value should be the ratio between the target mass of the spacecraft at the end of the transfer (i.e., ```mt [kg]```) and the initial mass (i.e., ```ms [kg]```). In this way, the output variable is in the range ```[0-1]```.\n",
        "\n",
        "A train-test split is performed, assuming 20% of the dataset used for testing.\n",
        "\n",
        "The train set is fitted and scaled by centering and scaled, while the test set is only scaled. This allows to simulate the fact that unseen data are passed to the model."
      ]
    },
    {
      "cell_type": "code",
      "execution_count": 2,
      "metadata": {
        "id": "xsNtSWVrvmoJ"
      },
      "outputs": [],
      "source": [
        "# define the file path\n",
        "file_path = \"datasets/fuel_optimal_db.csv\"\n",
        "\n",
        "# Load the data using pandas\n",
        "data = pd.read_csv(file_path)\n",
        "\n",
        "# drop unused columns\n",
        "columns_to_drop = [\"mima [kg]\", \"mima2 [kg]\", \"mima3 [kg]\", \"mfms_approx\"]\n",
        "data = data.drop(columns=columns_to_drop)\n",
        "\n",
        "# Preprocess data\n",
        "y = data[\"mt [kg]\"] / data[\"ms [kg]\"] # put the data in 0-1 range\n",
        "X = data.drop(\"mt [kg]\", axis=1)\n",
        "\n",
        "# split data in train and test -- 20% of the dataset is used for testing\n",
        "X_train, X_test, y_train, y_test = train_test_split(\n",
        "    X, y, test_size=0.2, random_state=42\n",
        ")\n",
        "\n",
        "# scale the data\n",
        "scaler = StandardScaler()\n",
        "X_train_scaled = scaler.fit_transform(X_train)\n",
        "X_test_scaled = scaler.transform(X_test)\n"
      ]
    },
    {
      "cell_type": "markdown",
      "metadata": {},
      "source": [
        "### Step 2: MLP\n",
        "\n",
        "A simple MLP is built using an input and normalization layers, followed by 2 hidden layers with 64 and 32 neurons, respectively. The output layer only has one neuron since a single value is desired as target. A sigmoid is used as activation function for output layer, since it is expected that the output is in the ```[0-1]``` range.\n",
        "\n",
        "The loss is mean squared error (MSE), while the metric is the mean absolute error (MAE). "
      ]
    },
    {
      "cell_type": "code",
      "execution_count": 3,
      "metadata": {
        "id": "lap9JHXEvu_Z"
      },
      "outputs": [],
      "source": [
        "# Multi Layer Perceptron\n",
        "\n",
        "# initialize the model\n",
        "model = keras.Sequential(\n",
        "    [\n",
        "        layers.InputLayer(shape=(X_train.shape[1],)),\n",
        "        layers.BatchNormalization(),\n",
        "        layers.Dense(64, activation=\"relu\"),\n",
        "        layers.Dropout(0.3),\n",
        "        layers.Dense(32, activation='relu'),\n",
        "        layers.Dropout(0.3),\n",
        "        layers.Dense(1, activation=\"sigmoid\"),\n",
        "    ]\n",
        ")\n",
        "\n",
        "# compile the model\n",
        "model.compile(loss=\"mean_squared_error\", optimizer=\"adam\", metrics=[\"mean_absolute_error\"])"
      ]
    },
    {
      "cell_type": "markdown",
      "metadata": {},
      "source": [
        "The model is then trained for 10 epochs."
      ]
    },
    {
      "cell_type": "code",
      "execution_count": 4,
      "metadata": {
        "id": "lVIqSbzcvsQ3"
      },
      "outputs": [
        {
          "name": "stdout",
          "output_type": "stream",
          "text": [
            "Epoch 1/10\n",
            "\u001b[1m33188/33188\u001b[0m \u001b[32m━━━━━━━━━━━━━━━━━━━━\u001b[0m\u001b[37m\u001b[0m \u001b[1m38s\u001b[0m 1ms/step - loss: 0.0036 - mean_absolute_error: 0.0379\n",
            "Epoch 2/10\n",
            "\u001b[1m33188/33188\u001b[0m \u001b[32m━━━━━━━━━━━━━━━━━━━━\u001b[0m\u001b[37m\u001b[0m \u001b[1m35s\u001b[0m 1ms/step - loss: 0.0011 - mean_absolute_error: 0.0255\n",
            "Epoch 3/10\n",
            "\u001b[1m33188/33188\u001b[0m \u001b[32m━━━━━━━━━━━━━━━━━━━━\u001b[0m\u001b[37m\u001b[0m \u001b[1m33s\u001b[0m 1ms/step - loss: 0.0011 - mean_absolute_error: 0.0251\n",
            "Epoch 4/10\n",
            "\u001b[1m33188/33188\u001b[0m \u001b[32m━━━━━━━━━━━━━━━━━━━━\u001b[0m\u001b[37m\u001b[0m \u001b[1m31s\u001b[0m 924us/step - loss: 0.0011 - mean_absolute_error: 0.0249\n",
            "Epoch 5/10\n",
            "\u001b[1m33188/33188\u001b[0m \u001b[32m━━━━━━━━━━━━━━━━━━━━\u001b[0m\u001b[37m\u001b[0m \u001b[1m31s\u001b[0m 937us/step - loss: 0.0011 - mean_absolute_error: 0.0248\n",
            "Epoch 6/10\n",
            "\u001b[1m33188/33188\u001b[0m \u001b[32m━━━━━━━━━━━━━━━━━━━━\u001b[0m\u001b[37m\u001b[0m \u001b[1m31s\u001b[0m 933us/step - loss: 0.0010 - mean_absolute_error: 0.0247\n",
            "Epoch 7/10\n",
            "\u001b[1m33188/33188\u001b[0m \u001b[32m━━━━━━━━━━━━━━━━━━━━\u001b[0m\u001b[37m\u001b[0m \u001b[1m31s\u001b[0m 923us/step - loss: 0.0010 - mean_absolute_error: 0.0247\n",
            "Epoch 8/10\n",
            "\u001b[1m33188/33188\u001b[0m \u001b[32m━━━━━━━━━━━━━━━━━━━━\u001b[0m\u001b[37m\u001b[0m \u001b[1m31s\u001b[0m 936us/step - loss: 0.0010 - mean_absolute_error: 0.0246\n",
            "Epoch 9/10\n",
            "\u001b[1m33188/33188\u001b[0m \u001b[32m━━━━━━━━━━━━━━━━━━━━\u001b[0m\u001b[37m\u001b[0m \u001b[1m30s\u001b[0m 910us/step - loss: 0.0010 - mean_absolute_error: 0.0246\n",
            "Epoch 10/10\n",
            "\u001b[1m33188/33188\u001b[0m \u001b[32m━━━━━━━━━━━━━━━━━━━━\u001b[0m\u001b[37m\u001b[0m \u001b[1m31s\u001b[0m 935us/step - loss: 0.0010 - mean_absolute_error: 0.0246\n"
          ]
        }
      ],
      "source": [
        "# train the model\n",
        "history = model.fit(\n",
        "    X_train_scaled,\n",
        "    y_train,\n",
        "    epochs=10,\n",
        "    verbose=1,\n",
        "    batch_size=32,\n",
        ")"
      ]
    },
    {
      "cell_type": "code",
      "execution_count": 5,
      "metadata": {
        "id": "E4CCo-y92tui"
      },
      "outputs": [
        {
          "name": "stdout",
          "output_type": "stream",
          "text": [
            "\u001b[1m8297/8297\u001b[0m \u001b[32m━━━━━━━━━━━━━━━━━━━━\u001b[0m\u001b[37m\u001b[0m \u001b[1m5s\u001b[0m 623us/step - loss: 8.6736e-04 - mean_absolute_error: 0.0223\n",
            "\u001b[1m8297/8297\u001b[0m \u001b[32m━━━━━━━━━━━━━━━━━━━━\u001b[0m\u001b[37m\u001b[0m \u001b[1m5s\u001b[0m 628us/step\n"
          ]
        }
      ],
      "source": [
        "# evaluate and check the history\n",
        "test_loss = model.evaluate(X_test_scaled, y_test)\n",
        "y_pred = model.predict(X_test_scaled)\n",
        "train_mae = history.history[\"mean_absolute_error\"]"
      ]
    },
    {
      "cell_type": "code",
      "execution_count": 6,
      "metadata": {
        "id": "szzw91sq9kTK"
      },
      "outputs": [
        {
          "data": {
            "image/png": "[encoded data removed]",
            "text/plain": [
              "<Figure size 1000x600 with 1 Axes>"
            ]
          },
          "metadata": {},
          "output_type": "display_data"
        }
      ],
      "source": [
        "# Create the plot\n",
        "plt.figure(figsize=(10, 6))\n",
        "plt.plot(train_mae, label='Training MAE')\n",
        "plt.title('Mean Absolute Error Over Epochs')\n",
        "plt.xlabel('Epoch')\n",
        "plt.ylabel('Mean Absolute Error')\n",
        "plt.legend()\n",
        "plt.grid(True)\n",
        "\n",
        "# Show the plot\n",
        "plt.show()"
      ]
    },
    {
      "cell_type": "code",
      "execution_count": 7,
      "metadata": {},
      "outputs": [
        {
          "name": "stdout",
          "output_type": "stream",
          "text": [
            "\u001b[1m8297/8297\u001b[0m \u001b[32m━━━━━━━━━━━━━━━━━━━━\u001b[0m\u001b[37m\u001b[0m \u001b[1m5s\u001b[0m 558us/step\n"
          ]
        }
      ],
      "source": [
        "predictions = model.predict(X_test_scaled)"
      ]
    },
    {
      "cell_type": "code",
      "execution_count": 8,
      "metadata": {},
      "outputs": [],
      "source": [
        "# mean percentage error\n",
        "mpe = sum(abs(y_pred.flatten() - y_test.to_numpy())/y_test.to_numpy())/len(y_test) * 100"
      ]
    }
  ],
  "metadata": {
    "accelerator": "GPU",
    "colab": {
      "gpuType": "T4",
      "provenance": []
    },
    "kernelspec": {
      "display_name": ".venv",
      "language": "python",
      "name": "python3"
    },
    "language_info": {
      "codemirror_mode": {
        "name": "ipython",
        "version": 3
      },
      "file_extension": ".py",
      "mimetype": "text/x-python",
      "name": "python",
      "nbconvert_exporter": "python",
      "pygments_lexer": "ipython3",
      "version": "3.10.11"
    }
  },
  "nbformat": 4,
  "nbformat_minor": 0
}
