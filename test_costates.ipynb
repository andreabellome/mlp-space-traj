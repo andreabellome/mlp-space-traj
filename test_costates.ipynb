{
 "cells": [
  {
   "cell_type": "code",
   "execution_count": 2,
   "metadata": {},
   "outputs": [],
   "source": [
    "# import the libraries\n",
    "import tensorflow as tf\n",
    "from keras._tf_keras.keras import layers\n",
    "import keras\n",
    "\n",
    "import pandas as pd\n",
    "import numpy as np\n",
    "from sklearn.model_selection import train_test_split\n",
    "from sklearn.preprocessing import StandardScaler\n",
    "import matplotlib.pyplot as plt"
   ]
  },
  {
   "cell_type": "code",
   "execution_count": 3,
   "metadata": {},
   "outputs": [],
   "source": [
    "# define the file path\n",
    "file_path = \"datasets/fuel_optimal_db.csv\"\n",
    "\n",
    "# Load the data using pandas\n",
    "data = pd.read_csv(file_path)\n",
    "\n",
    "# drop unused columns\n",
    "columns_to_drop = [\"mima [kg]\", \"mima2 [kg]\", \"mima3 [kg]\", \"mfms_approx\"]\n",
    "data = data.drop(columns=columns_to_drop)\n",
    "\n",
    "# Preprocess data\n",
    "y = data[\"mt [kg]\"] / data[\"ms [kg]\"] # put the data in 0-1 range\n",
    "X = data.drop(\"mt [kg]\", axis=1)\n",
    "\n",
    "# split data in train and test -- 20% of the dataset is used for testing\n",
    "X_train, X_test, y_train, y_test = train_test_split(\n",
    "    X, y, test_size=0.2, random_state=42\n",
    ")\n",
    "\n",
    "# scale the data\n",
    "scaler = StandardScaler()\n",
    "X_train_scaled = scaler.fit_transform(X_train)\n",
    "X_test_scaled = scaler.transform(X_test)\n"
   ]
  },
  {
   "cell_type": "code",
   "execution_count": 4,
   "metadata": {},
   "outputs": [],
   "source": [
    "import csv\n",
    "import random\n",
    "\n",
    "# Define the column headers\n",
    "headers = ['id', 'lambda_x', 'lambda_y', 'lambda_z', \n",
    "            'lambda_vx', 'lambda_vy', 'lambda_vz', 'lambda_m', 'success']\n",
    "\n",
    "def generate_csv(filename, headers, num_rows):\n",
    "\n",
    "    # Open the CSV file for writing\n",
    "    with open(filename, mode='w', newline='') as file:\n",
    "        writer = csv.writer(file)\n",
    "        \n",
    "        # Write the header row\n",
    "        writer.writerow(headers)\n",
    "        \n",
    "        # Write each row with random values for the lambda columns and True for success\n",
    "        for i in range(1, num_rows + 1):\n",
    "            row = [i, random.uniform(-4, 4), random.uniform(-4, 4), random.uniform(-4, 4),\n",
    "                   random.uniform(-4, 4), random.uniform(-4, 4), random.uniform(-4, 4),\n",
    "                   random.uniform(-4, 4), True]\n",
    "            writer.writerow(row)\n"
   ]
  },
  {
   "cell_type": "code",
   "execution_count": 7,
   "metadata": {},
   "outputs": [],
   "source": [
    "# generate the CSV\n",
    "generate_csv('output.csv', headers, num_rows=1000)  # Generates 100 rows"
   ]
  }
 ],
 "metadata": {
  "kernelspec": {
   "display_name": ".venv",
   "language": "python",
   "name": "python3"
  },
  "language_info": {
   "codemirror_mode": {
    "name": "ipython",
    "version": 3
   },
   "file_extension": ".py",
   "mimetype": "text/x-python",
   "name": "python",
   "nbconvert_exporter": "python",
   "pygments_lexer": "ipython3",
   "version": "3.10.0"
  }
 },
 "nbformat": 4,
 "nbformat_minor": 2
}
